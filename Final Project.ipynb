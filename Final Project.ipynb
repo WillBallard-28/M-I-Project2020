{
 "cells": [
  {
   "cell_type": "code",
   "execution_count": 1,
   "metadata": {},
   "outputs": [],
   "source": [
    "from math import *\n",
    "from vpython import *\n",
    "from random import *"
   ]
  },
  {
   "cell_type": "code",
   "execution_count": null,
   "metadata": {},
   "outputs": [],
   "source": [
    "sun_earth_distance=1.5e11\n",
    "sun_jupiter_distance=7.79e11\n",
    "earth_speed=2.9e4\n",
    "jupiter_speed=13.06e3\n",
    "G=-6.67e-11\n",
    "\n",
    "scene2 = canvas(title=\"Earth\",caption=\"animated display\",center=vector(0,0,0), background=color.black)\n",
    "\n",
    "sun   = sphere(pos=vector(0,0,0),radius=9e9,color=color.yellow)\n",
    "earth = sphere(pos=vector(sun_earth_distance,0,0),radius=5e9,color=color.green)\n",
    "jupiter= sphere(pos=vector(sun_jupiter_distance,0,0,),radius=7e9, color=color.orange)\n",
    "\n",
    "earth.mass=6e24\n",
    "sun.mass=2e30\n",
    "jupiter.mass=1.9e27\n",
    "asteroid_mass=10e6\n",
    "asteroid_number=20\n",
    "asteroid_list=[]\n",
    "\n",
    "\n",
    "\n",
    "for i in range(0,asteroid_number):\n",
    "    asteroid=sphere(pos=vector((uniform(1,10)*1e11),(uniform(1,10)*1e11),0),radius=9e9,color=color.white)\n",
    "    asteroid_list.append(asteroid)\n",
    "    asteroid_list[i].mass=asteroid_mass\n",
    "    asteroid_list[i].momentum=asteroid_mass*vector(randint(1,50)*25,0,0)\n",
    "    asteroid_list[i].trail=curve(color=color.yellow)\n",
    "    asteroid_list[i].trail.append(pos=asteroid_list[i].pos)\n",
    "    \n",
    "\n",
    "earth.momentum=earth.mass*vector(0,earth_speed,0)\n",
    "jupiter.momentum=jupiter.mass*vector(0,jupiter_speed,0)\n",
    "\n",
    "jupiter.trail = curve(color=color.orange)\n",
    "jupiter.trail.append(pos=jupiter.pos)\n",
    "scale = 3e-12\n",
    "time=0\n",
    "dt=6*3600\n",
    "\n",
    "while time<(3.15e9)/4:\n",
    "    rate(100)\n",
    "    time+=dt\n",
    "    earth.force=((G*earth.mass*sun.mass)/mag2(earth.pos-sun.pos))*norm(earth.pos-sun.pos)\n",
    "    earth.momentum+=earth.force*dt\n",
    "    earth.pos+=(earth.momentum/earth.mass)*dt\n",
    "\n",
    "    jupiter.force=((G*jupiter.mass*sun.mass)/mag2(jupiter.pos-sun.pos))*norm(jupiter.pos-sun.pos)\n",
    "    jupiter.momentum+=jupiter.force*dt\n",
    "    jupiter.pos+=(jupiter.momentum/jupiter.mass)*dt\n",
    "    jupiter.trail.append(pos=jupiter.pos)\n",
    "    for i in range(0,len(asteroid_list)):\n",
    "        temp=asteroid_list[i]\n",
    "        temp.force=(((G*temp.mass*sun.mass)/mag2(temp.pos-sun.pos))*norm(temp.pos-sun.pos))+(((G*temp.mass*jupiter.mass)/mag2(temp.pos-jupiter.pos))*norm(temp.pos-sun.pos))\n",
    "        temp.momentum+=temp.force*dt\n",
    "        temp.pos+=(temp.momentum/temp.mass)*dt\n",
    "        temp.trail.append(pos=temp.pos)\n",
    "        if(mag(temp.pos)<=sun.radius):\n",
    "            asteroid_list.pop(i)\n",
    "            break\n",
    "\n",
    "    \n",
    "    \n",
    "    "
   ]
  },
  {
   "cell_type": "code",
   "execution_count": null,
   "metadata": {},
   "outputs": [],
   "source": []
  }
 ],
 "metadata": {
  "kernelspec": {
   "display_name": "Python 3",
   "language": "python",
   "name": "python3"
  },
  "language_info": {
   "codemirror_mode": {
    "name": "ipython",
    "version": 3
   },
   "file_extension": ".py",
   "mimetype": "text/x-python",
   "name": "python",
   "nbconvert_exporter": "python",
   "pygments_lexer": "ipython3",
   "version": "3.8.3"
  }
 },
 "nbformat": 4,
 "nbformat_minor": 4
}
